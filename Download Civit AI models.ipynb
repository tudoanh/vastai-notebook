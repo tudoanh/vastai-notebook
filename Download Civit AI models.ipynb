{
 "cells": [
  {
   "cell_type": "code",
   "execution_count": null,
   "id": "d06bfdb6",
   "metadata": {},
   "outputs": [],
   "source": [
    "!ls /workspace/stable-diffusion-webui/models/Stable-diffusion"
   ]
  },
  {
   "cell_type": "code",
   "execution_count": null,
   "id": "c9520aa6",
   "metadata": {},
   "outputs": [],
   "source": [
    "\"\"\"Threads\n",
    "\n",
    "The easy Python threading module.\n",
    "\"\"\"\n",
    "from functools import wraps\n",
    "\n",
    "try:\n",
    "    import threading\n",
    "except ImportError:\n",
    "    import dummy_threading as threading\n",
    "\n",
    "\n",
    "class Empty(object):\n",
    "    \"\"\"An empty value.\n",
    "\n",
    "    ``Empty`` is a uniquely identifiable object that signifies a ``Channel`` is\n",
    "    empty. ``False`` or ``None`` are inappropriate for this purpose since those\n",
    "    values could be sent through the ``Channel``.\n",
    "    \"\"\"\n",
    "\n",
    "    def __repr__(self):\n",
    "        return \"<Empty>\"\n",
    "\n",
    "\n",
    "empty = Empty()  # The empty value.\n",
    "\n",
    "\n",
    "class _Queue(object):\n",
    "    \"\"\"Simple wrap-around queue.\n",
    "\n",
    "    :param int size: The size of the queue.\n",
    "    \"\"\"\n",
    "\n",
    "    def __init__(self, size=1):\n",
    "        self._queue = [empty for _ in range(size)]\n",
    "        self._start = self._end = 0\n",
    "\n",
    "    def __getitem__(self, key):\n",
    "        return self._queue[key]\n",
    "\n",
    "    def __setitem__(self, key, value):\n",
    "        self._queue[key] = value\n",
    "\n",
    "    def __len__(self):\n",
    "        return len(self._queue)\n",
    "\n",
    "    @property\n",
    "    def empty(self):\n",
    "        \"\"\"Return bool indicating if queue is empty.\"\"\"\n",
    "        return self._queue[self._start] is empty\n",
    "\n",
    "    @property\n",
    "    def full(self):\n",
    "        \"\"\"Return bool indicating if queue is full.\"\"\"\n",
    "        return self[self._end] is not empty\n",
    "\n",
    "    def _inc_index(self, index):\n",
    "        \"\"\"Properly increment the index and return.\"\"\"\n",
    "        return (index + 1) % len(self)\n",
    "\n",
    "    def pop(self):\n",
    "        \"\"\"Pop a value from the front of the queue.\n",
    "\n",
    "        :raises ValueError: When the queue is empty.\n",
    "        \"\"\"\n",
    "        if self.empty:\n",
    "            # This should never happen if the queue is managed properly.\n",
    "            raise ValueError(\"Cannot pop from empty queue.\")\n",
    "\n",
    "        val = self[self._start]\n",
    "\n",
    "        self[self._start] = empty\n",
    "        self._start = self._inc_index(self._start)\n",
    "\n",
    "        return val\n",
    "\n",
    "    def push(self, value):\n",
    "        \"\"\"Push the value onto the back of the queue.\n",
    "\n",
    "        :raises ValueError: When the queue is full.\n",
    "        \"\"\"\n",
    "        if self.full:\n",
    "            # This should never happen if the queue is managed properly.\n",
    "            raise ValueError(\"Cannot push onto full queue.\")\n",
    "\n",
    "        self[self._end] = value\n",
    "        self._end = self._inc_index(self._end)\n",
    "\n",
    "\n",
    "class Channel(object):\n",
    "    \"\"\"A thread-safe channel to send data through.\n",
    "\n",
    "    :param int size: The size of the channels buffer.\n",
    "    \"\"\"\n",
    "\n",
    "    def __init__(self, size=1):\n",
    "        self._values = _Queue(size)\n",
    "        self._lock = threading.Lock()\n",
    "        self._recv_val = threading.Condition(self._lock)\n",
    "        self._send_val = threading.Condition(self._lock)\n",
    "\n",
    "    def send(self, value):\n",
    "        \"\"\"Send a value through the channel.\n",
    "\n",
    "        If the channel is full, sends the active thread to sleep.\n",
    "        \"\"\"\n",
    "        with self._send_val:\n",
    "            while self._values.full:\n",
    "                # Wait for the channel to open up.\n",
    "                self._send_val.wait()\n",
    "\n",
    "            self._values.push(value)\n",
    "\n",
    "            # Notify the ``recv_val`` condition that the channel has a value.\n",
    "            self._recv_val.notify()\n",
    "\n",
    "    def recv(self):\n",
    "        \"\"\"Receive a value from the channel.\n",
    "\n",
    "        If no value is available, sends the active thread to sleep.\n",
    "        \"\"\"\n",
    "        with self._recv_val:\n",
    "            while self._values.empty:\n",
    "                # Wait for a value to be sent through the channel.\n",
    "                self._recv_val.wait()\n",
    "\n",
    "            val = self._values.pop()\n",
    "\n",
    "            # Notify the ``send_val`` condition that the channel is open.\n",
    "            self._send_val.notify()\n",
    "\n",
    "            return val\n",
    "\n",
    "\n",
    "def threaded(f):\n",
    "    \"\"\"Create a threaded function.\n",
    "\n",
    "    :param f: A function.\n",
    "    :returns: A ``threading.Thread`` object that the function is running in.\n",
    "\n",
    "    :example:\n",
    "        @threaded\n",
    "        def threaded_add(x, y):\n",
    "            x + y\n",
    "\n",
    "        threaded_add(1, 2)  # This runs in a new thread!\n",
    "\n",
    "    :example:\n",
    "        def add(x, y):\n",
    "            x + y\n",
    "\n",
    "        threaded_add = threaded(add)\n",
    "\n",
    "        add(1, 2)           # This runs in the main thread.\n",
    "        threaded_add(1, 2)  # This runs in a new thread!\n",
    "    \"\"\"\n",
    "\n",
    "    @wraps(f)\n",
    "    def threaded_wrapper(*args, **kwargs):\n",
    "        t = threading.Thread(target=f, args=args, kwargs=kwargs)\n",
    "        t.start()\n",
    "        return t\n",
    "\n",
    "    return threaded_wrapper\n"
   ]
  },
  {
   "cell_type": "code",
   "execution_count": null,
   "id": "ebf640d0",
   "metadata": {},
   "outputs": [],
   "source": [
    "import subprocess\n",
    "\n",
    "@threaded\n",
    "def download_model(url):\n",
    "    command = ['wget', url, '--content-disposition', '--no-verbose', '--no-clobber', '-P', '/workspace/stable-diffusion-webui/models/Stable-diffusion/']\n",
    "    subprocess.run(command)\n",
    "\n",
    "    \n",
    "# https://civitai.com/api/download/models/87153\n",
    "@threaded\n",
    "def download_lora(url):\n",
    "    command = ['wget', url, '--content-disposition', '--no-verbose', '--no-clobber', '-P', '/workspace/stable-diffusion-webui/models/Lora/']\n",
    "    subprocess.run(command)\n",
    "\n",
    "@threaded\n",
    "def download_vae(url):\n",
    "    command = ['wget', url, '--content-disposition', '--no-verbose', '--no-clobber', '-P', '/workspace/stable-diffusion-webui/models/VAE/']\n",
    "    subprocess.run(command)\n",
    "\n",
    "@threaded\n",
    "def download_embedding(url):\n",
    "    command = ['wget', url, '--content-disposition', '--no-verbose', '--no-clobber', '-P', '/workspace/stable-diffusion-webui/embeddings']\n",
    "    subprocess.run(command)\n",
    "\n",
    "@threaded\n",
    "def download_controlnet(url):\n",
    "    command = ['wget', url, '--content-disposition', '--no-verbose', '--no-clobber', '-P', '/workspace/stable-diffusion-webui/extensions/sd-webui-controlnet/models/']\n",
    "    subprocess.run(command)"
   ]
  },
  {
   "cell_type": "code",
   "execution_count": null,
   "id": "9a1d5fd6",
   "metadata": {},
   "outputs": [],
   "source": [
    "LORAS = [\n",
    "    'https://civitai.com/api/download/models/87153',\n",
    "    'https://civitai.com/api/download/models/67980',\n",
    "    'https://huggingface.co/naonovn/Lora/resolve/main/add_detail.safetensors',\n",
    "    'https://civitai.com/api/download/models/8787',\n",
    "    'https://civitai.com/api/download/models/84558',\n",
    "    'https://civitai.com/api/download/models/44566',\n",
    "]\n",
    "\n",
    "VAES = [\n",
    "    'https://huggingface.co/stabilityai/sd-vae-ft-mse-original/resolve/main/vae-ft-mse-840000-ema-pruned.safetensors',\n",
    "    'https://civitai.com/api/download/models/14459?type=VAE',\n",
    "    'https://huggingface.co/WarriorMama777/OrangeMixs/resolve/main/VAEs/orangemix.vae.pt',\n",
    "]\n",
    "\n",
    "\n",
    "# https://huggingface.co/lllyasviel/ControlNet-v1-1/tree/main\n",
    "CONTROL_NETS = [\n",
    "    'https://huggingface.co/lllyasviel/ControlNet-v1-1/resolve/main/control_v11f1e_sd15_tile.pth',\n",
    "    'https://huggingface.co/lllyasviel/ControlNet-v1-1/resolve/main/control_v11p_sd15_canny.pth',\n",
    "    'https://huggingface.co/lllyasviel/ControlNet-v1-1/resolve/main/control_v11p_sd15_softedge.pth',\n",
    "    'https://huggingface.co/lllyasviel/ControlNet-v1-1/resolve/main/control_v11p_sd15_softedge.pth'\n",
    "]\n",
    "\n",
    "EMBEDDINGS = [\n",
    "    'https://civitai.com/api/download/models/5637',\n",
    "    'https://civitai.com/api/download/models/9208',\n",
    "    'https://civitai.com/api/download/models/60095',\n",
    "    'https://civitai.com/api/download/models/76712',\n",
    "]"
   ]
  },
  {
   "cell_type": "code",
   "execution_count": null,
   "id": "cf1dc67f",
   "metadata": {},
   "outputs": [],
   "source": [
    "MODELS = [ \n",
    "    'https://civitai.com/api/download/models/15236',  # Delibarate v2\n",
    "    'https://civitai.com/api/download/models/40248',  # ReV Animated\n",
    "    'https://civitai.com/api/download/models/43888',  # Dreamshaper\n",
    "    'https://civitai.com/api/download/models/7425',   # Counter-feit v3\n",
    "    'https://civitai.com/api/download/models/69832',  # Pixar\n",
    "]"
   ]
  },
  {
   "cell_type": "code",
   "execution_count": null,
   "id": "8f97536f",
   "metadata": {},
   "outputs": [],
   "source": [
    "for mo in MODELS:\n",
    "    download_model(mo)"
   ]
  },
  {
   "cell_type": "code",
   "execution_count": null,
   "id": "de493220",
   "metadata": {},
   "outputs": [],
   "source": [
    "for lora in LORAS:\n",
    "    download_lora(lora)"
   ]
  },
  {
   "cell_type": "code",
   "execution_count": null,
   "id": "a9a42fb3",
   "metadata": {},
   "outputs": [],
   "source": [
    "for vae in VAES:\n",
    "    download_vae(vae)"
   ]
  },
  {
   "cell_type": "code",
   "execution_count": null,
   "id": "88aa109f",
   "metadata": {},
   "outputs": [],
   "source": [
    "\n",
    "for em in EMBEDDINGS:\n",
    "    download_embedding(em)"
   ]
  },
  {
   "cell_type": "code",
   "execution_count": null,
   "id": "628df1c7",
   "metadata": {},
   "outputs": [],
   "source": [
    "!ls -lah /workspace/stable-diffusion-webui/models/VAE"
   ]
  },
  {
   "cell_type": "code",
   "execution_count": null,
   "id": "fa1cfd65",
   "metadata": {},
   "outputs": [],
   "source": [
    "# Install Controlnet\n",
    "!git clone 'https://github.com/Mikubill/sd-webui-controlnet.git' '/workspace/stable-diffusion-webui/extensions/'"
   ]
  },
  {
   "cell_type": "code",
   "execution_count": null,
   "id": "bbfe63df",
   "metadata": {
    "scrolled": true
   },
   "outputs": [],
   "source": [
    "for net in CONTROL_NETS:\n",
    "    download_controlnet(net)"
   ]
  },
  {
   "cell_type": "code",
   "execution_count": null,
   "id": "d85d4a25",
   "metadata": {
    "scrolled": true
   },
   "outputs": [],
   "source": [
    "!ls -lah /workspace/stable-diffusion-webui/models/Stable-diffusion/"
   ]
  },
  {
   "cell_type": "code",
   "execution_count": null,
   "id": "9cb8cddf",
   "metadata": {},
   "outputs": [],
   "source": [
    "!mkdir /tmp/gradio/"
   ]
  },
  {
   "cell_type": "markdown",
   "id": "df856ec9",
   "metadata": {},
   "source": [
    "## Deliberate v2"
   ]
  },
  {
   "cell_type": "code",
   "execution_count": null,
   "id": "7e4120e0",
   "metadata": {
    "scrolled": true
   },
   "outputs": [],
   "source": [
    "!wget 'https://civitai.com/api/download/models/15236' -O \"/workspace/stable-diffusion-webui/models/Stable-diffusion/Deliberate_v2.safetensors\""
   ]
  },
  {
   "cell_type": "markdown",
   "id": "9bff0650",
   "metadata": {},
   "source": [
    "## ReV Animated"
   ]
  },
  {
   "cell_type": "code",
   "execution_count": null,
   "id": "14bb338f",
   "metadata": {
    "scrolled": false
   },
   "outputs": [],
   "source": [
    "!wget 'https://civitai.com/api/download/models/40248' -O \"/workspace/stable-diffusion-webui/models/Stable-diffusion/revAnimated_v121.safetensors\""
   ]
  },
  {
   "cell_type": "markdown",
   "id": "1787036c",
   "metadata": {},
   "source": [
    "## DreamShaper v5.0 Baked"
   ]
  },
  {
   "cell_type": "code",
   "execution_count": null,
   "id": "7a1d397f",
   "metadata": {
    "scrolled": false
   },
   "outputs": [],
   "source": [
    "!wget 'https://civitai.com/api/download/models/43888' -O \"/workspace/stable-diffusion-webui/models/Stable-diffusion/dreamshaper_v5_vae.safetensors\""
   ]
  },
  {
   "cell_type": "markdown",
   "id": "e11df681",
   "metadata": {},
   "source": [
    "## Realistic Vision V2.0"
   ]
  },
  {
   "cell_type": "code",
   "execution_count": null,
   "id": "598cf445",
   "metadata": {},
   "outputs": [],
   "source": [
    "!wget 'https://civitai.com/api/download/models/29460' -O \"/workspace/stable-diffusion-webui/models/Stable-diffusion/realistic_vision_v2.0.safetensors\""
   ]
  },
  {
   "cell_type": "markdown",
   "id": "e3d172e0",
   "metadata": {},
   "source": [
    "###  Counterfeit-V2.5"
   ]
  },
  {
   "cell_type": "code",
   "execution_count": null,
   "id": "9f1be5d0",
   "metadata": {
    "scrolled": false
   },
   "outputs": [],
   "source": [
    "!wget 'https://civitai.com/api/download/models/7425' -O \"/workspace/stable-diffusion-webui/models/Stable-diffusion/Counterfeit-V25.safetensors\""
   ]
  },
  {
   "cell_type": "markdown",
   "id": "4bd9a34a",
   "metadata": {},
   "source": [
    "## Pastel Mix"
   ]
  },
  {
   "cell_type": "code",
   "execution_count": null,
   "id": "03764026",
   "metadata": {
    "scrolled": true
   },
   "outputs": [],
   "source": [
    "!wget 'https://civitai.com/api/download/models/6297' -O \"/workspace/stable-diffusion-webui/models/Stable-diffusion/Pastel-Mix.safetensors\""
   ]
  },
  {
   "cell_type": "markdown",
   "id": "39fd3947",
   "metadata": {},
   "source": [
    "## Oriental-Mix"
   ]
  },
  {
   "cell_type": "code",
   "execution_count": null,
   "id": "eb3d36d3",
   "metadata": {},
   "outputs": [],
   "source": [
    "!wget 'https://civitai.com/api/download/models/47998' -O \"/workspace/stable-diffusion-webui/models/Stable-diffusion/Oriental-Mix.safetensors\""
   ]
  },
  {
   "cell_type": "markdown",
   "id": "21437b51",
   "metadata": {},
   "source": [
    "## LoRa"
   ]
  },
  {
   "cell_type": "code",
   "execution_count": null,
   "id": "2bbd74b3",
   "metadata": {},
   "outputs": [],
   "source": [
    "!wget 'https://civitai.com/api/download/models/28907' -O \"/workspace/stable-diffusion-webui/models/Lora/animeLineartMangaLike_v30MangaLike.safetensors\""
   ]
  },
  {
   "cell_type": "code",
   "execution_count": null,
   "id": "37adfdb2",
   "metadata": {},
   "outputs": [],
   "source": [
    "!wget 'https://civitai.com/api/download/models/9208' -O \"/workspace/stable-diffusion-webui/models/Lora/easynegative.safetensors\""
   ]
  },
  {
   "cell_type": "code",
   "execution_count": null,
   "id": "1eab3a11",
   "metadata": {},
   "outputs": [],
   "source": [
    "!wget 'https://civitai.com/api/download/models/20068' -O \"/workspace/stable-diffusion-webui/models/Lora/badhandv4.safetensors\""
   ]
  },
  {
   "cell_type": "code",
   "execution_count": null,
   "id": "311f8491",
   "metadata": {},
   "outputs": [],
   "source": []
  },
  {
   "cell_type": "code",
   "execution_count": null,
   "id": "f739a188",
   "metadata": {},
   "outputs": [],
   "source": []
  },
  {
   "cell_type": "code",
   "execution_count": null,
   "id": "e650c6c1",
   "metadata": {},
   "outputs": [],
   "source": []
  },
  {
   "cell_type": "code",
   "execution_count": null,
   "id": "1c250fba",
   "metadata": {},
   "outputs": [],
   "source": []
  }
 ],
 "metadata": {
  "kernelspec": {
   "display_name": "Python 3 (ipykernel)",
   "language": "python",
   "name": "python3"
  },
  "language_info": {
   "codemirror_mode": {
    "name": "ipython",
    "version": 3
   },
   "file_extension": ".py",
   "mimetype": "text/x-python",
   "name": "python",
   "nbconvert_exporter": "python",
   "pygments_lexer": "ipython3",
   "version": "3.10.0"
  }
 },
 "nbformat": 4,
 "nbformat_minor": 5
}
